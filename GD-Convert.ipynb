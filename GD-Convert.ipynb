{
 "cells": [
  {
   "cell_type": "code",
   "execution_count": 1,
   "metadata": {},
   "outputs": [
    {
     "name": "stdout",
     "output_type": "stream",
     "text": [
      "Done!\n"
     ]
    }
   ],
   "source": [
    "readname = 'data\\csv-depth\\depth.csv'\n",
    "readf = open(readname, 'r')\n",
    "writename = 'data\\GD\\depth1.csv'\n",
    "writef = open(writename, 'w')\n",
    "for ln in readf:\n",
    "    if ln.find('...')==-1 and len(ln)>1:\n",
    "        ln2 = ln.replace('\",\"','\\n')\n",
    "        ln2 = ln2.replace('[[',' ')\n",
    "        ln2 = ln2.replace('[','')\n",
    "        ln2 = ln2.replace(']]','')\n",
    "        ln2 = ln2.replace(']','')\n",
    "        ln3 = list(ln2)\n",
    "        #print(ln3)\n",
    "        while ln3[0]=='\"':\n",
    "            del ln3[0]\n",
    "        while ln3[0]==' ':\n",
    "            del ln3[0]\n",
    "        ln2 = ''.join(ln3)\n",
    "        ln2 = ln2.replace('\\n   ','\\n')\n",
    "        ln2 = ln2.replace('\\n  ','\\n')\n",
    "        ln2 = ln2.replace('\\n ','\\n')\n",
    "        ln2 = ln2.replace('   ',',')\n",
    "        ln2 = ln2.replace('  ',',')\n",
    "        ln2 = ln2.replace(' ',',')\n",
    "        ln2 = ln2.replace('\"','')\n",
    "        writef.write(ln2)\n",
    "writef.close()\n",
    "print('Done!')\n",
    "\n"
   ]
  },
  {
   "cell_type": "code",
   "execution_count": 2,
   "metadata": {},
   "outputs": [
    {
     "name": "stdout",
     "output_type": "stream",
     "text": [
      "Done!\n"
     ]
    }
   ],
   "source": [
    "readname = 'data\\csv-depth\\depth.csv'\n",
    "readf = open(readname, 'r')\n",
    "writename = 'data\\GD\\depth1.csv'\n",
    "writef = open(writename, 'w')\n",
    "for ln in readf:\n",
    "    if ln.find('...')==-1 and len(ln)>1:\n",
    "        ln2 = ln.replace('\",\"','\\n')\n",
    "        ln2 = ln2.replace('[[',' ')\n",
    "        ln2 = ln2.replace('[','')\n",
    "        ln2 = ln2.replace(']]','')\n",
    "        ln2 = ln2.replace(']','')\n",
    "        ln3 = list(ln2)\n",
    "        #print(ln3)\n",
    "        while ln3[0]=='\"':\n",
    "            del ln3[0]\n",
    "        while ln3[0]==' ':\n",
    "            del ln3[0]\n",
    "        ln2 = ''.join(ln3)\n",
    "        ln2 = ln2.replace('\\n   ','\\n')\n",
    "        ln2 = ln2.replace('\\n  ','\\n')\n",
    "        ln2 = ln2.replace('\\n ','\\n')\n",
    "        ln2 = ln2.replace('   ',',')\n",
    "        ln2 = ln2.replace('  ',',')\n",
    "        ln2 = ln2.replace(' ',',')\n",
    "        ln2 = ln2.replace('\"','')\n",
    "        writef.write(ln2)\n",
    "writef.close()\n",
    "print('Done!')"
   ]
  },
  {
   "cell_type": "code",
   "execution_count": 3,
   "metadata": {},
   "outputs": [
    {
     "name": "stdout",
     "output_type": "stream",
     "text": [
      "Done!\n"
     ]
    }
   ],
   "source": [
    "import numpy as np\n",
    "readname = 'data\\csv-depth\\depth.csv'\n",
    "readf = open(readname, 'r')\n",
    "writename = 'data\\GD\\depth1.csv'\n",
    "writef = open(writename, 'w')\n",
    "for ln in readf:\n",
    "    if ln.find('...')==-1 and len(ln)>1:\n",
    "        ln2 = ln.replace('\",\"','\\n')\n",
    "        def moving_average(x, w):\n",
    "            return np.convolve(x, np.ones(w), 'valid') / w\n",
    "\n",
    "writef.close()\n",
    "print('Done!')"
   ]
  },
  {
   "cell_type": "code",
   "execution_count": 4,
   "metadata": {},
   "outputs": [
    {
     "name": "stdout",
     "output_type": "stream",
     "text": [
      "The original list : data\\csv-depth\\depth.csv\n"
     ]
    },
    {
     "ename": "TypeError",
     "evalue": "can't convert type 'str' to numerator/denominator",
     "output_type": "error",
     "traceback": [
      "\u001b[1;31m---------------------------------------------------------------------------\u001b[0m",
      "\u001b[1;31mTypeError\u001b[0m                                 Traceback (most recent call last)",
      "\u001b[1;32md:\\PythonProject\\2022-Depth Camera\\GD-Convert.ipynb Cell 4\u001b[0m in \u001b[0;36m<cell line: 14>\u001b[1;34m()\u001b[0m\n\u001b[0;32m     <a href='vscode-notebook-cell:/d%3A/PythonProject/2022-Depth%20Camera/GD-Convert.ipynb#W3sZmlsZQ%3D%3D?line=11'>12</a>\u001b[0m \u001b[39mfor\u001b[39;00m i \u001b[39min\u001b[39;00m test_list:\n\u001b[0;32m     <a href='vscode-notebook-cell:/d%3A/PythonProject/2022-Depth%20Camera/GD-Convert.ipynb#W3sZmlsZQ%3D%3D?line=12'>13</a>\u001b[0m  x\u001b[39m.\u001b[39mextend(i)\n\u001b[1;32m---> <a href='vscode-notebook-cell:/d%3A/PythonProject/2022-Depth%20Camera/GD-Convert.ipynb#W3sZmlsZQ%3D%3D?line=13'>14</a>\u001b[0m res\u001b[39m=\u001b[39mstatistics\u001b[39m.\u001b[39;49mmean(x)\n\u001b[0;32m     <a href='vscode-notebook-cell:/d%3A/PythonProject/2022-Depth%20Camera/GD-Convert.ipynb#W3sZmlsZQ%3D%3D?line=14'>15</a>\u001b[0m \u001b[39m# printing result\u001b[39;00m\n\u001b[0;32m     <a href='vscode-notebook-cell:/d%3A/PythonProject/2022-Depth%20Camera/GD-Convert.ipynb#W3sZmlsZQ%3D%3D?line=15'>16</a>\u001b[0m \u001b[39mprint\u001b[39m(\u001b[39m\"\u001b[39m\u001b[39mMatrix Mean : \u001b[39m\u001b[39m\"\u001b[39m \u001b[39m+\u001b[39m \u001b[39mstr\u001b[39m(res))\n",
      "File \u001b[1;32mc:\\Users\\maeda\\anaconda3\\lib\\statistics.py:316\u001b[0m, in \u001b[0;36mmean\u001b[1;34m(data)\u001b[0m\n\u001b[0;32m    314\u001b[0m \u001b[39mif\u001b[39;00m n \u001b[39m<\u001b[39m \u001b[39m1\u001b[39m:\n\u001b[0;32m    315\u001b[0m     \u001b[39mraise\u001b[39;00m StatisticsError(\u001b[39m'\u001b[39m\u001b[39mmean requires at least one data point\u001b[39m\u001b[39m'\u001b[39m)\n\u001b[1;32m--> 316\u001b[0m T, total, count \u001b[39m=\u001b[39m _sum(data)\n\u001b[0;32m    317\u001b[0m \u001b[39massert\u001b[39;00m count \u001b[39m==\u001b[39m n\n\u001b[0;32m    318\u001b[0m \u001b[39mreturn\u001b[39;00m _convert(total \u001b[39m/\u001b[39m n, T)\n",
      "File \u001b[1;32mc:\\Users\\maeda\\anaconda3\\lib\\statistics.py:166\u001b[0m, in \u001b[0;36m_sum\u001b[1;34m(data, start)\u001b[0m\n\u001b[0;32m    164\u001b[0m \u001b[39mfor\u001b[39;00m typ, values \u001b[39min\u001b[39;00m groupby(data, \u001b[39mtype\u001b[39m):\n\u001b[0;32m    165\u001b[0m     T \u001b[39m=\u001b[39m _coerce(T, typ)  \u001b[39m# or raise TypeError\u001b[39;00m\n\u001b[1;32m--> 166\u001b[0m     \u001b[39mfor\u001b[39;00m n, d \u001b[39min\u001b[39;00m \u001b[39mmap\u001b[39m(_exact_ratio, values):\n\u001b[0;32m    167\u001b[0m         count \u001b[39m+\u001b[39m\u001b[39m=\u001b[39m \u001b[39m1\u001b[39m\n\u001b[0;32m    168\u001b[0m         partials[d] \u001b[39m=\u001b[39m partials_get(d, \u001b[39m0\u001b[39m) \u001b[39m+\u001b[39m n\n",
      "File \u001b[1;32mc:\\Users\\maeda\\anaconda3\\lib\\statistics.py:248\u001b[0m, in \u001b[0;36m_exact_ratio\u001b[1;34m(x)\u001b[0m\n\u001b[0;32m    246\u001b[0m     \u001b[39mreturn\u001b[39;00m (x, \u001b[39mNone\u001b[39;00m)\n\u001b[0;32m    247\u001b[0m msg \u001b[39m=\u001b[39m \u001b[39m\"\u001b[39m\u001b[39mcan\u001b[39m\u001b[39m'\u001b[39m\u001b[39mt convert type \u001b[39m\u001b[39m'\u001b[39m\u001b[39m{}\u001b[39;00m\u001b[39m'\u001b[39m\u001b[39m to numerator/denominator\u001b[39m\u001b[39m\"\u001b[39m\n\u001b[1;32m--> 248\u001b[0m \u001b[39mraise\u001b[39;00m \u001b[39mTypeError\u001b[39;00m(msg\u001b[39m.\u001b[39mformat(\u001b[39mtype\u001b[39m(x)\u001b[39m.\u001b[39m\u001b[39m__name__\u001b[39m))\n",
      "\u001b[1;31mTypeError\u001b[0m: can't convert type 'str' to numerator/denominator"
     ]
    }
   ],
   "source": [
    "# Python3 code to demonstrate working of\n",
    "# Matrix Mean\n",
    "import statistics\n",
    "# initializing lists\n",
    "test_list = 'data\\csv-depth\\depth.csv'\n",
    "readf = open(readname, 'r')\n",
    "\n",
    "\n",
    "# printing original list\n",
    "print(\"The original list : \" + str(test_list))\n",
    "x=[]\n",
    "for i in test_list:\n",
    " x.extend(i)\n",
    "res=statistics.mean(x)\n",
    "# printing result\n",
    "print(\"Matrix Mean : \" + str(res))"
   ]
  },
  {
   "cell_type": "code",
   "execution_count": 5,
   "metadata": {},
   "outputs": [],
   "source": [
    "import pandas as pd\n",
    "import numpy as np"
   ]
  },
  {
   "cell_type": "code",
   "execution_count": 6,
   "metadata": {},
   "outputs": [],
   "source": [
    "df=pd.read_csv('data\\csv-depth\\depth.csv')"
   ]
  },
  {
   "cell_type": "code",
   "execution_count": 7,
   "metadata": {},
   "outputs": [],
   "source": [
    "data=np.array(df)[0]"
   ]
  },
  {
   "cell_type": "code",
   "execution_count": null,
   "metadata": {},
   "outputs": [],
   "source": []
  },
  {
   "cell_type": "code",
   "execution_count": 8,
   "metadata": {},
   "outputs": [
    {
     "ename": "AttributeError",
     "evalue": "module 'numpy' has no attribute 'replace'",
     "output_type": "error",
     "traceback": [
      "\u001b[1;31m---------------------------------------------------------------------------\u001b[0m",
      "\u001b[1;31mAttributeError\u001b[0m                            Traceback (most recent call last)",
      "\u001b[1;32md:\\PythonProject\\2022-Depth Camera\\GD-Convert.ipynb Cell 9\u001b[0m in \u001b[0;36m<cell line: 1>\u001b[1;34m()\u001b[0m\n\u001b[1;32m----> <a href='vscode-notebook-cell:/d%3A/PythonProject/2022-Depth%20Camera/GD-Convert.ipynb#X11sZmlsZQ%3D%3D?line=0'>1</a>\u001b[0m np\u001b[39m.\u001b[39;49mreplace(data)\n",
      "File \u001b[1;32mc:\\Users\\maeda\\anaconda3\\lib\\site-packages\\numpy\\__init__.py:313\u001b[0m, in \u001b[0;36m__getattr__\u001b[1;34m(attr)\u001b[0m\n\u001b[0;32m    310\u001b[0m     \u001b[39mfrom\u001b[39;00m \u001b[39m.\u001b[39;00m\u001b[39mtesting\u001b[39;00m \u001b[39mimport\u001b[39;00m Tester\n\u001b[0;32m    311\u001b[0m     \u001b[39mreturn\u001b[39;00m Tester\n\u001b[1;32m--> 313\u001b[0m \u001b[39mraise\u001b[39;00m \u001b[39mAttributeError\u001b[39;00m(\u001b[39m\"\u001b[39m\u001b[39mmodule \u001b[39m\u001b[39m{!r}\u001b[39;00m\u001b[39m has no attribute \u001b[39m\u001b[39m\"\u001b[39m\n\u001b[0;32m    314\u001b[0m                      \u001b[39m\"\u001b[39m\u001b[39m{!r}\u001b[39;00m\u001b[39m\"\u001b[39m\u001b[39m.\u001b[39mformat(\u001b[39m__name__\u001b[39m, attr))\n",
      "\u001b[1;31mAttributeError\u001b[0m: module 'numpy' has no attribute 'replace'"
     ]
    }
   ],
   "source": [
    "np.replace(data)"
   ]
  },
  {
   "cell_type": "code",
   "execution_count": null,
   "metadata": {},
   "outputs": [],
   "source": []
  }
 ],
 "metadata": {
  "kernelspec": {
   "display_name": "Python 3.9.12 ('base')",
   "language": "python",
   "name": "python3"
  },
  "language_info": {
   "codemirror_mode": {
    "name": "ipython",
    "version": 3
   },
   "file_extension": ".py",
   "mimetype": "text/x-python",
   "name": "python",
   "nbconvert_exporter": "python",
   "pygments_lexer": "ipython3",
   "version": "3.9.12"
  },
  "orig_nbformat": 4,
  "vscode": {
   "interpreter": {
    "hash": "7339cd7ee004f422aed6a93096b4fb868ff71b39e0f977f70aedffd871709194"
   }
  }
 },
 "nbformat": 4,
 "nbformat_minor": 2
}
